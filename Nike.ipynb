{
 "cells": [
  {
   "cell_type": "code",
   "execution_count": 7,
   "metadata": {},
   "outputs": [],
   "source": [
    "import requests\n",
    "from bs4 import BeautifulSoup\n",
    "import pandas as pd\n",
    "import json\n",
    "from urllib.parse import urljoin"
   ]
  },
  {
   "cell_type": "code",
   "execution_count": 13,
   "metadata": {},
   "outputs": [],
   "source": [
    "# Function to get products from all pages\n",
    "def get_all_products():\n",
    "    base_url = \"https://api.nike.com\"\n",
    "    initial_url = \"/discover/product_wall/v1/marketplace/US/language/en/consumerChannelId/d9a5bc42-4b9c-4976-858a-f159cf99c647\"\n",
    "    params = {\n",
    "        \"path\": \"/w/mens-shoes-nik1zy7ok\",\n",
    "        \"attributeIds\": \"16633190-45e5-4830-a068-232ac7aea82c,0f64ecc7-d624-4e91-b171-b83a03dd8550\",\n",
    "        \"queryType\": \"PRODUCTS\",\n",
    "        \"anchor\": \"1\",\n",
    "        \"count\": \"24\"\n",
    "    }\n",
    "\n",
    "    # Headers\n",
    "    headers = {\n",
    "        'nike-api-caller-id': 'nike:dotcom:browse:wall.client:2.0',\n",
    "        'anonymousid': '82C2FC43F58856356902F7058D12F873',\n",
    "        'cookie': 'geoloc=cc=NG,...',\n",
    "        'user-agent': 'Mozilla/5.0 (Windows NT 10.0; Win64; x64) AppleWebKit/537.36 (KHTML, like Gecko) Chrome/130.0.0.0 Safari/537.36',\n",
    "        'accept': '*/*',\n",
    "        'accept-encoding': 'gzip, deflate, br, zstd',\n",
    "        'accept-language': 'en-GB,en-US;q=0.9,en;q=0.8',\n",
    "        'origin': 'https://www.nike.com',\n",
    "        'referer': 'https://www.nike.com/',\n",
    "    }\n",
    "\n",
    "    # List to store all products\n",
    "\n",
    "    url = urljoin(base_url, initial_url)  # Construct the full URL\n",
    "\n",
    "    df = pd.DataFrame(columns=['title', 'subtitle', 'productType', 'productSubType', 'color', 'url', 'imageUrl', 'currentPrice', 'discountPercentage', 'initialPrice'])\n",
    "    while url:  # Continue until there are no more pages (url will be None when finished)\n",
    "        response = requests.get(url, headers=headers, params=params)\n",
    "        \n",
    "        if response.status_code == 200:\n",
    "            data = json.loads(response.text)  # Parse the JSON response\n",
    "            for grouping in data['productGroupings']:\n",
    "                for product in grouping['products']:\n",
    "                    title = product['copy']['title'] if 'copy' in product and 'title' in product['copy'] else None\n",
    "                    subtitle = product['copy']['subTitle'] if 'copy' in product and 'subTitle' in product['copy'] else None\n",
    "                    productType = product['productType'] if 'productType' in product else None\n",
    "                    productSubtype = product['productSubType'] if 'productSubtype' in product else None\n",
    "                    color = product['displayColors']['simpleColor']['label'] if 'displayColors' in product and 'simpleColor' in product['displayColors'] and 'label' in product['displayColors']['simpleColor'] else None\n",
    "                    url = product['pdpUrl']['url'] if 'pdpUrl' in product and 'url' in product['pdpUrl'] else None\n",
    "                    imageUrl = product['colorwayImages']['portraitURL'] if 'colorwayImages' in product and 'portraitURL' in product['colorwayImages'] else None\n",
    "                    currentPrice = product['prices']['currentPrice'] if 'prices' in product and 'currentPrice' in product['prices'] else None\n",
    "                    discountPercentage = product['prices']['discountPercentage'] if 'prices' in product and 'discountPercentage' in product['prices'] else None\n",
    "                    intialPrice = product['prices']['initialPrice'] if 'prices' in product and 'initialPrice' in product['prices'] else None\n",
    "                    df = pd.concat([df, pd.DataFrame({'title':[title], 'subtitle': [subtitle], 'productType' : [productType], 'productSubType' : [productSubtype], 'color' : [color], 'url': [url], \n",
    "                                                      'imageUrl' : [imageUrl], 'currentPrice' : [currentPrice], 'discountPercentage' : [discountPercentage], 'initialPrice' : [intialPrice]})], ignore_index=True)\n",
    "            # Check if there is a next page\n",
    "            next_page = data.get('pages', {}).get('next', None)\n",
    "            if next_page:\n",
    "                url = urljoin(base_url, next_page)  # Join the base URL with the next URL\n",
    "            else:\n",
    "                url = None  # No more pages, exit the loop\n",
    "        else:\n",
    "            print(f\"Error: {response.status_code}\")\n",
    "            break\n",
    "\n",
    "    return df\n",
    "\n",
    "\n"
   ]
  },
  {
   "cell_type": "code",
   "execution_count": 14,
   "metadata": {},
   "outputs": [
    {
     "name": "stderr",
     "output_type": "stream",
     "text": [
      "C:\\Users\\win10\\AppData\\Local\\Temp\\ipykernel_9284\\3139010228.py:48: FutureWarning: The behavior of DataFrame concatenation with empty or all-NA entries is deprecated. In a future version, this will no longer exclude empty or all-NA columns when determining the result dtypes. To retain the old behavior, exclude the relevant entries before the concat operation.\n",
      "  df = pd.concat([df, pd.DataFrame({'title':[title], 'subtitle': [subtitle], 'productType' : [productType], 'productSubType' : [productSubtype], 'color' : [color], 'url': [url],\n"
     ]
    }
   ],
   "source": [
    "# Fetch all products\n",
    "nike_products = get_all_products()"
   ]
  },
  {
   "cell_type": "code",
   "execution_count": 15,
   "metadata": {},
   "outputs": [],
   "source": [
    "nike_products.to_csv('scraped_products.csv')"
   ]
  },
  {
   "cell_type": "code",
   "execution_count": null,
   "metadata": {},
   "outputs": [],
   "source": []
  }
 ],
 "metadata": {
  "kernelspec": {
   "display_name": "Python 3",
   "language": "python",
   "name": "python3"
  },
  "language_info": {
   "codemirror_mode": {
    "name": "ipython",
    "version": 3
   },
   "file_extension": ".py",
   "mimetype": "text/x-python",
   "name": "python",
   "nbconvert_exporter": "python",
   "pygments_lexer": "ipython3",
   "version": "3.11.9"
  }
 },
 "nbformat": 4,
 "nbformat_minor": 2
}
